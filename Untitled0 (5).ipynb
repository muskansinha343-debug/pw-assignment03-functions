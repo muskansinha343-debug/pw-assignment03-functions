{
  "nbformat": 4,
  "nbformat_minor": 0,
  "metadata": {
    "colab": {
      "provenance": []
    },
    "kernelspec": {
      "name": "python3",
      "display_name": "Python 3"
    },
    "language_info": {
      "name": "python"
    }
  },
  "cells": [
    {
      "cell_type": "markdown",
      "source": [
        "# Assignment Functions\n",
        "# Theory Questions:-\n",
        "1. What is the difference between a function and a method in python?     \n",
        "ans. The difference between a function and a method in python is how they are called and where they defined:  \n",
        "* Function: A function is a block of code that performs a specific task. It is defined using the def keyword and can be called directly by its name from anywhere in the program. Functions are independenr and not associated with any specific object.    \n",
        "Example:-  def greet(name):\n",
        "           print(f\"Hello,{name}!\")  \n",
        "           greet(\"john\")\n",
        "           #output: Hello, john!\n",
        "* Method: A method is also a block of code that performs a specific task,but it is associatedwith an object' Methods are defined inside  a class and are called on an instance of that class using dot notation (object.method(). Methods often operate on the data within the object they belong to.\n",
        "Example:   class person:  \n",
        "         def__init__(self,name):\n",
        "         self.name = name\n",
        "         def greet(self):\n",
        "         print(f\"hellow, my name is{self.name}!)\n",
        "         person = person(\"jane\")  \n",
        "         person.greet() #output: Hello, my name is jane!     \n",
        "\n",
        "Q2. Explain the concept of function arguments and parameters in python.\n"
      ],
      "metadata": {
        "id": "y4k4Ru1BBE2w"
      }
    },
    {
      "cell_type": "markdown",
      "metadata": {
        "id": "1ccc0e22"
      },
      "source": [
        "ans. **Parameters** are placeholders for the values that the function will use when it's called. They are defined in the function signature.\n",
        "\n",
        "**Arguments** are the actual values that you pass into the function when you call it. These values are assigned to the corresponding parameters."
      ]
    },
    {
      "cell_type": "code",
      "metadata": {
        "colab": {
          "base_uri": "https://localhost:8080/"
        },
        "id": "bfced6f9",
        "outputId": "15408d3f-9fd5-4a67-d124-3baf05bd9368"
      },
      "source": [
        "# Define a function with parameters 'a' and 'b'\n",
        "def add_numbers(a, b):\n",
        "  sum = a + b\n",
        "  return sum\n",
        "\n",
        "# Call the function with arguments 5 and 3\n",
        "result = add_numbers(5, 3)\n",
        "print(f\"The sum is: {result}\")\n",
        "\n",
        "# In this example:\n",
        "# 'a' and 'b' are parameters\n",
        "# 5 and 3 are arguments"
      ],
      "execution_count": null,
      "outputs": [
        {
          "output_type": "stream",
          "name": "stdout",
          "text": [
            "The sum is: 8\n"
          ]
        }
      ]
    },
    {
      "cell_type": "markdown",
      "source": [
        "Q.3 What are the different ways to define and call a function in python?   \n",
        "ans."
      ],
      "metadata": {
        "id": "XdypiE1JJCp6"
      }
    },
    {
      "cell_type": "markdown",
      "metadata": {
        "id": "7fadf7ab"
      },
      "source": [
        "Here are the different ways to define and call a function in python:\n",
        "\n",
        "*   **Defining a standard function:** Using the `def` keyword.\n",
        "*   **Calling a function:** Using the function name followed by parentheses `()`, with arguments passed inside if required.\n",
        "*   **Defining a lambda function:** Using the `lambda` keyword for small, anonymous functions.\n",
        "*   **Calling a lambda function:** Similar to calling a standard function.\n",
        "*   **Using positional arguments:** Arguments passed in the order they are defined in the function signature.\n",
        "*   **Using keyword arguments:** Arguments passed with the parameter name followed by the value (`parameter=value`).\n",
        "*   **Using default arguments:** Parameters with a default value assigned in the function definition.\n",
        "*   **Using arbitrary positional arguments (`*args`):** To pass a variable number of non-keyword arguments.\n",
        "*   **Using arbitrary keyword arguments (`**kwargs`):** To pass a variable number of keyword arguments."
      ]
    },
    {
      "cell_type": "markdown",
      "metadata": {
        "id": "c25641a2"
      },
      "source": [
        "Here are some examples:"
      ]
    },
    {
      "cell_type": "code",
      "metadata": {
        "colab": {
          "base_uri": "https://localhost:8080/"
        },
        "id": "c9e25892",
        "outputId": "78196ca4-89b6-432b-d2ab-4ee34e61bf20"
      },
      "source": [
        "# Defining and calling a standard function\n",
        "def my_function(x, y):\n",
        "  return x + y\n",
        "\n",
        "print(my_function(5, 3)) # Calling with positional arguments"
      ],
      "execution_count": null,
      "outputs": [
        {
          "output_type": "stream",
          "name": "stdout",
          "text": [
            "8\n"
          ]
        }
      ]
    },
    {
      "cell_type": "code",
      "metadata": {
        "colab": {
          "base_uri": "https://localhost:8080/"
        },
        "id": "ed51686c",
        "outputId": "cea7f402-05f6-4e5d-bcc9-05449a45ca8b"
      },
      "source": [
        "# Defining and calling a lambda function\n",
        "add = lambda x, y: x + y\n",
        "print(add(5, 3))"
      ],
      "execution_count": null,
      "outputs": [
        {
          "output_type": "stream",
          "name": "stdout",
          "text": [
            "8\n"
          ]
        }
      ]
    },
    {
      "cell_type": "code",
      "metadata": {
        "colab": {
          "base_uri": "https://localhost:8080/"
        },
        "id": "fb95caa9",
        "outputId": "3145e4fe-3570-4f46-a4d9-2c9e5d5a2f81"
      },
      "source": [
        "# Calling with keyword arguments\n",
        "def greet(name, message):\n",
        "  return f\"{message}, {name}!\"\n",
        "\n",
        "print(greet(name=\"Alice\", message=\"Hello\"))"
      ],
      "execution_count": null,
      "outputs": [
        {
          "output_type": "stream",
          "name": "stdout",
          "text": [
            "Hello, Alice!\n"
          ]
        }
      ]
    },
    {
      "cell_type": "code",
      "metadata": {
        "colab": {
          "base_uri": "https://localhost:8080/"
        },
        "id": "fddedffc",
        "outputId": "14211296-7d00-4037-f465-030fb66e33bf"
      },
      "source": [
        "# Using default arguments\n",
        "def greet_default(name, message=\"Hello\"):\n",
        "  return f\"{message}, {name}!\"\n",
        "\n",
        "print(greet_default(\"Bob\"))\n",
        "print(greet_default(\"Charlie\", \"Hi\"))"
      ],
      "execution_count": null,
      "outputs": [
        {
          "output_type": "stream",
          "name": "stdout",
          "text": [
            "Hello, Bob!\n",
            "Hi, Charlie!\n"
          ]
        }
      ]
    },
    {
      "cell_type": "code",
      "metadata": {
        "colab": {
          "base_uri": "https://localhost:8080/"
        },
        "id": "8aa81478",
        "outputId": "0994805d-a30d-401e-f361-c0a8f3dbae17"
      },
      "source": [
        "# Using arbitrary positional arguments (*args)\n",
        "def sum_all(*args):\n",
        "  return sum(args)\n",
        "\n",
        "print(sum_all(1, 2, 3, 4))"
      ],
      "execution_count": null,
      "outputs": [
        {
          "output_type": "stream",
          "name": "stdout",
          "text": [
            "10\n"
          ]
        }
      ]
    },
    {
      "cell_type": "code",
      "metadata": {
        "colab": {
          "base_uri": "https://localhost:8080/"
        },
        "id": "4a79c4d0",
        "outputId": "7bb9ba78-5a66-4947-fe18-f50c8a144c9e"
      },
      "source": [
        "# Using arbitrary keyword arguments (**kwargs)\n",
        "def display_info(**kwargs):\n",
        "  for key, value in kwargs.items():\n",
        "    print(f\"{key}: {value}\")\n",
        "\n",
        "display_info(name=\"David\", age=30, city=\"New York\")"
      ],
      "execution_count": null,
      "outputs": [
        {
          "output_type": "stream",
          "name": "stdout",
          "text": [
            "name: David\n",
            "age: 30\n",
            "city: New York\n"
          ]
        }
      ]
    },
    {
      "cell_type": "markdown",
      "source": [
        "Q.4 what are the purpose of the 'return' statement in a python function?\n",
        "ans."
      ],
      "metadata": {
        "id": "LX0VE3fvJz8S"
      }
    },
    {
      "cell_type": "markdown",
      "metadata": {
        "id": "114721dd"
      },
      "source": [
        "The `return` statement in a Python function is used to:\n",
        "\n",
        "1.  **Exit the function:** When a `return` statement is encountered, the function stops executing immediately.\n",
        "2.  **Send a value back to the caller:** It allows a function to produce a result and send that result back to the part of the code that called the function.\n",
        "\n",
        "If a function doesn't have a `return` statement, or if it has a `return` statement without a value, it implicitly returns `None`."
      ]
    },
    {
      "cell_type": "code",
      "metadata": {
        "colab": {
          "base_uri": "https://localhost:8080/"
        },
        "id": "81ebc534",
        "outputId": "ca09ac97-685b-4cd2-f0ee-11d3edc7cb6e"
      },
      "source": [
        "def multiply(x, y):\n",
        "  # The 'return' statement sends the result of the multiplication back\n",
        "  return x * y\n",
        "\n",
        "# Call the function and store the returned value in a variable\n",
        "product = multiply(4, 5)\n",
        "print(f\"The product is: {product}\")\n",
        "\n",
        "# Example of a function without a return value (implicitly returns None)\n",
        "def greet(name):\n",
        "  print(f\"Hello, {name}!\")\n",
        "\n",
        "result = greet(\"Bob\")\n",
        "print(f\"The return value of greet is: {result}\")"
      ],
      "execution_count": null,
      "outputs": [
        {
          "output_type": "stream",
          "name": "stdout",
          "text": [
            "The product is: 20\n",
            "Hello, Bob!\n",
            "The return value of greet is: None\n"
          ]
        }
      ]
    },
    {
      "cell_type": "markdown",
      "source": [
        "Q.5 what are iterators in python and how do they differ from iterables?"
      ],
      "metadata": {
        "id": "xsY6ljsXK4E6"
      }
    },
    {
      "cell_type": "markdown",
      "metadata": {
        "id": "05052189"
      },
      "source": [
        "**Iterables** are objects that can be iterated over. This means you can loop through their elements one by one. Examples of iterables include lists, tuples, strings, and dictionaries. Anything you can use in a `for` loop is an iterable.\n",
        "\n",
        "An iterable has an `__iter__()` method that returns an **iterator**.\n",
        "\n",
        "**Iterators** are objects that represent a stream of data. They are used to access the elements of an iterable one at a time. An iterator remembers its state, meaning it knows which element comes next.\n",
        "\n",
        "An iterator has two main methods:\n",
        "\n",
        "1.  `__iter__()`: Returns the iterator object itself.\n",
        "2.  `__next__()`: Returns the next element from the stream. If there are no more elements, it raises a `StopIteration` exception.\n",
        "\n",
        "**The key difference:**\n",
        "\n",
        "*   An **iterable** is something you can loop *over*.\n",
        "*   An **iterator** is an object that *performs* the iteration.\n",
        "\n",
        "You get an iterator *from* an iterable. The iterator is what the `for` loop actually uses under the hood to get the next item."
      ]
    },
    {
      "cell_type": "code",
      "metadata": {
        "colab": {
          "base_uri": "https://localhost:8080/"
        },
        "id": "4794dccd",
        "outputId": "0738f8b2-fa9c-4b0c-cbdc-2a56b98e81d3"
      },
      "source": [
        "# Example of an iterable (a list)\n",
        "my_list = [1, 2, 3, 4]\n",
        "\n",
        "# Iterating over the list using a for loop (the for loop uses an iterator internally)\n",
        "print(\"Iterating over the list:\")\n",
        "for item in my_list:\n",
        "  print(item)\n",
        "\n",
        "# Getting an iterator from the iterable\n",
        "my_iterator = iter(my_list)\n",
        "\n",
        "# Using the iterator to get the next element\n",
        "print(\"\\nUsing the iterator:\")\n",
        "print(next(my_iterator))\n",
        "print(next(my_iterator))\n",
        "print(next(my_iterator))\n",
        "print(next(my_iterator))\n",
        "\n",
        "# Trying to get the next element after exhaustion raises StopIteration\n",
        "try:\n",
        "  print(next(my_iterator))\n",
        "except StopIteration:\n",
        "  print(\"\\nIterator is exhausted.\")\n",
        "\n",
        "# Example with a string (also an iterable)\n",
        "my_string = \"hello\"\n",
        "string_iterator = iter(my_string)\n",
        "\n",
        "print(\"\\nIterating over the string:\")\n",
        "print(next(string_iterator))\n",
        "print(next(string_iterator))"
      ],
      "execution_count": null,
      "outputs": [
        {
          "output_type": "stream",
          "name": "stdout",
          "text": [
            "Iterating over the list:\n",
            "1\n",
            "2\n",
            "3\n",
            "4\n",
            "\n",
            "Using the iterator:\n",
            "1\n",
            "2\n",
            "3\n",
            "4\n",
            "\n",
            "Iterator is exhausted.\n",
            "\n",
            "Iterating over the string:\n",
            "h\n",
            "e\n"
          ]
        }
      ]
    },
    {
      "cell_type": "markdown",
      "source": [
        "Q.6 Explain the concept of generators in python and how they are defined.    \n",
        "ans."
      ],
      "metadata": {
        "id": "qHK0_POIHZuD"
      }
    },
    {
      "cell_type": "markdown",
      "metadata": {
        "id": "62a237d8"
      },
      "source": [
        "**Generators** are a special type of iterator in Python. They are functions that return an iterator that can be iterated over. What makes them special is that they don't build the entire sequence in memory at once. Instead, they generate items one at a time as they are needed, using the `yield` keyword.\n",
        "\n",
        "This makes generators very memory-efficient, especially when dealing with large sequences of data.\n",
        "\n",
        "**How they are defined:**\n",
        "\n",
        "Generators are defined like regular functions using the `def` keyword, but instead of using the `return` statement to return a value and exit the function, they use the `yield` keyword.\n",
        "\n",
        "When a generator function is called, it doesn't execute the code immediately. Instead, it returns a generator object. The code inside the generator function is executed only when `next()` is called on the generator object (either explicitly or implicitly by a `for` loop). When `yield` is encountered, the function pauses execution and the value after `yield` is returned. The state of the function is saved, and execution resumes from where it left off the next time `next()` is called."
      ]
    },
    {
      "cell_type": "code",
      "metadata": {
        "colab": {
          "base_uri": "https://localhost:8080/"
        },
        "id": "39c731ae",
        "outputId": "7b6fdd5f-eaf8-4e75-fe25-5dd1dc0ea1d3"
      },
      "source": [
        "# Example of a generator function\n",
        "def count_up_to(n):\n",
        "  i = 1\n",
        "  while i <= n:\n",
        "    yield i  # Yield the current value\n",
        "    i += 1\n",
        "\n",
        "# Create a generator object\n",
        "counter = count_up_to(5)\n",
        "\n",
        "# Iterate over the generator using a for loop\n",
        "print(\"Counting up to 5:\")\n",
        "for number in counter:\n",
        "  print(number)\n",
        "\n",
        "# You can also manually iterate using next()\n",
        "print(\"\\nManually iterating:\")\n",
        "counter_manual = count_up_to(3)\n",
        "print(next(counter_manual))\n",
        "print(next(counter_manual))\n",
        "print(next(counter_manual))\n",
        "\n",
        "# Trying to get the next element after exhaustion raises StopIteration\n",
        "try:\n",
        "  print(next(counter_manual))\n",
        "except StopIteration:\n",
        "  print(\"Generator is exhausted.\")"
      ],
      "execution_count": null,
      "outputs": [
        {
          "output_type": "stream",
          "name": "stdout",
          "text": [
            "Counting up to 5:\n",
            "1\n",
            "2\n",
            "3\n",
            "4\n",
            "5\n",
            "\n",
            "Manually iterating:\n",
            "1\n",
            "2\n",
            "3\n",
            "Generator is exhausted.\n"
          ]
        }
      ]
    },
    {
      "cell_type": "markdown",
      "source": [
        "Q.7 what arebthe advantages of using generator over regular functions?  \n",
        "ans."
      ],
      "metadata": {
        "id": "-Nr4pbMcInML"
      }
    },
    {
      "cell_type": "markdown",
      "metadata": {
        "id": "2f2bd0e3"
      },
      "source": [
        "Here are the advantages of using generators over regular functions:\n",
        "\n",
        "1.  **Memory Efficiency:** Generators produce items on demand using `yield`, rather than creating and storing the entire sequence in memory at once. This is a major advantage when dealing with large datasets, as it avoids potential memory errors. Regular functions that return a list, for example, would load everything into memory.\n",
        "\n",
        "2.  **Performance:** For large datasets, generating values one by one can be faster than building a full list in memory first, especially if you only need to process a few items at the beginning.\n",
        "\n",
        "3.  **Infinite Sequences:** Generators can easily represent infinite sequences (like an endless stream of numbers) because they don't need to compute and store all the values beforehand. Regular functions returning a list cannot do this.\n",
        "\n",
        "4.  **Cleaner Code for Iteration:** When you need to generate a sequence for iteration, a generator often provides a more concise and readable way to express the logic compared to manually managing state within a regular function and returning a list.\n",
        "\n",
        "5.  **Pipelining:** Generators can be easily chained together to create processing pipelines, where the output of one generator becomes the input of another, without creating intermediate lists in memory."
      ]
    },
    {
      "cell_type": "code",
      "metadata": {
        "colab": {
          "base_uri": "https://localhost:8080/"
        },
        "id": "d7c13c27",
        "outputId": "2a5d4c98-2029-41dd-c80f-c5905069a8b9"
      },
      "source": [
        "# Example demonstrating Memory Efficiency\n",
        "\n",
        "# Regular function that generates a large list\n",
        "def generate_large_list(n):\n",
        "  print(f\"Generating list of size {n}\")\n",
        "  numbers = []\n",
        "  for i in range(n):\n",
        "    numbers.append(i)\n",
        "  print(\"Finished generating list\")\n",
        "  return numbers\n",
        "\n",
        "# Generator function that generates numbers on demand\n",
        "def generate_large_sequence(n):\n",
        "  print(f\"Creating generator for sequence of size {n}\")\n",
        "  for i in range(n):\n",
        "    yield i\n",
        "  print(\"Generator finished\")\n",
        "\n",
        "# Using the regular function (can consume significant memory for large n)\n",
        "# large_list = generate_large_list(1000000) # Uncommenting this for very large n might cause memory issues\n",
        "\n",
        "# Using the generator function (memory efficient for large n)\n",
        "large_sequence = generate_large_sequence(1000000)\n",
        "\n",
        "print(\"\\nConsuming the generator (only generates values as needed):\")\n",
        "# Iterate over the generator, processing values one by one\n",
        "for i, num in enumerate(large_sequence):\n",
        "  if i < 5 or i > 999995: # Print only a few to show it's working\n",
        "    print(num)\n",
        "  if i == 5:\n",
        "    print(\"...\")\n",
        "  if i > 10:\n",
        "      pass # To avoid printing too many\n",
        "# In this example, the generator doesn't store all 1 million numbers in memory at once.\n",
        "\n",
        "\n",
        "# Example demonstrating Infinite Sequences (conceptual)\n",
        "def infinite_counter():\n",
        "  i = 0\n",
        "  while True:\n",
        "    yield i\n",
        "    i += 1\n",
        "\n",
        "# Create an infinite generator\n",
        "# counter = infinite_counter()\n",
        "\n",
        "# You can iterate over it indefinitely (or until you stop)\n",
        "# print(\"\\nInfinite counter (will run forever unless stopped):\")\n",
        "# for _ in range(5): # Limit to 5 for demonstration\n",
        "#    print(next(counter))"
      ],
      "execution_count": null,
      "outputs": [
        {
          "output_type": "stream",
          "name": "stdout",
          "text": [
            "\n",
            "Consuming the generator (only generates values as needed):\n",
            "Creating generator for sequence of size 1000000\n",
            "0\n",
            "1\n",
            "2\n",
            "3\n",
            "4\n",
            "...\n",
            "999996\n",
            "999997\n",
            "999998\n",
            "999999\n",
            "Generator finished\n"
          ]
        }
      ]
    },
    {
      "cell_type": "markdown",
      "source": [
        "Q.8 what is a lambda function in python and when is it typically used?  \n",
        "ans."
      ],
      "metadata": {
        "id": "uVExZINOJWd8"
      }
    },
    {
      "cell_type": "markdown",
      "metadata": {
        "id": "4a602391"
      },
      "source": [
        "A **lambda function** in Python is a small, anonymous function defined with the `lambda` keyword. Unlike regular functions defined with `def`, lambda functions:\n",
        "\n",
        "*   Are anonymous (they don't have a name).\n",
        "*   Can have any number of arguments but can only have one expression.\n",
        "*   The expression is evaluated and returned automatically.\n",
        "\n",
        "They are typically used for short, simple operations where a full function definition is overkill.\n",
        "\n",
        "**When are they typically used?**\n",
        "\n",
        "Lambda functions are often used in situations where you need a simple function for a short period, and defining a full function with `def` would be less concise. Common use cases include:\n",
        "\n",
        "1.  **With higher-order functions:** Functions that take other functions as arguments, such as `map()`, `filter()`, and `sorted()`.\n",
        "2.  **As a concise way to define simple functions:** When you need a function for a one-off task and don't want to formally define it.\n",
        "3.  **In GUI programming:** For simple callbacks or event handlers."
      ]
    },
    {
      "cell_type": "code",
      "metadata": {
        "colab": {
          "base_uri": "https://localhost:8080/"
        },
        "id": "dc212b73",
        "outputId": "9be0ad54-f3fc-4fc6-f55e-cce5f0657929"
      },
      "source": [
        "# Example 1: Using lambda with map()\n",
        "# map() applies a function to all the items in an input list (or other iterable)\n",
        "my_list = [1, 2, 3, 4, 5]\n",
        "# Use a lambda function to square each number in the list\n",
        "squared_list = list(map(lambda x: x**2, my_list))\n",
        "print(f\"Original list: {my_list}\")\n",
        "print(f\"Squared list using map and lambda: {squared_list}\")\n",
        "\n",
        "# Example 2: Using lambda with filter()\n",
        "# filter() creates an iterator from elements of an iterable for which a function returns true\n",
        "another_list = [10, 15, 20, 25, 30]\n",
        "# Use a lambda function to filter out numbers greater than 20\n",
        "filtered_list = list(filter(lambda x: x <= 20, another_list))\n",
        "print(f\"\\nOriginal list: {another_list}\")\n",
        "print(f\"Filtered list (<= 20) using filter and lambda: {filtered_list}\")\n",
        "\n",
        "# Example 3: Using lambda with sorted()\n",
        "# sorted() returns a new sorted list from the items in the iterable\n",
        "students = [('Alice', 25), ('Bob', 20), ('Charlie', 30)]\n",
        "# Sort the list of tuples based on the second element (age) using a lambda function\n",
        "sorted_students = sorted(students, key=lambda student: student[1])\n",
        "print(f\"\\nOriginal list of students: {students}\")\n",
        "print(f\"Sorted students by age using sorted and lambda: {sorted_students}\")\n",
        "\n",
        "# Example 4: Simple one-off lambda function\n",
        "add_ten = lambda x: x + 10\n",
        "print(f\"\\nAdding 10 to 5 using a lambda function: {add_ten(5)}\")\n",
        "\n",
        "# Example 5: Lambda function with multiple arguments\n",
        "multiply = lambda x, y: x * y\n",
        "print(f\"Multiplying 4 and 6 using a lambda function: {multiply(4, 6)}\")"
      ],
      "execution_count": null,
      "outputs": [
        {
          "output_type": "stream",
          "name": "stdout",
          "text": [
            "Original list: [1, 2, 3, 4, 5]\n",
            "Squared list using map and lambda: [1, 4, 9, 16, 25]\n",
            "\n",
            "Original list: [10, 15, 20, 25, 30]\n",
            "Filtered list (<= 20) using filter and lambda: [10, 15, 20]\n",
            "\n",
            "Original list of students: [('Alice', 25), ('Bob', 20), ('Charlie', 30)]\n",
            "Sorted students by age using sorted and lambda: [('Bob', 20), ('Alice', 25), ('Charlie', 30)]\n",
            "\n",
            "Adding 10 to 5 using a lambda function: 15\n",
            "Multiplying 4 and 6 using a lambda function: 24\n"
          ]
        }
      ]
    },
    {
      "cell_type": "markdown",
      "source": [
        "Q.9 Explain the purpose and usage of the 'map()' function in python.   \n",
        "ans."
      ],
      "metadata": {
        "id": "lF4U6YO2KEiE"
      }
    },
    {
      "cell_type": "markdown",
      "metadata": {
        "id": "8ae86de0"
      },
      "source": [
        "Let's explore the purpose and usage of the `map()` function in Python.\n",
        "\n",
        "### `map()`\n",
        "\n",
        "**Purpose:** The `map()` function applies a given function to each item of an iterable (like a list or tuple) and returns an iterator that yields the results. It's a way to transform each element in an iterable without using an explicit loop.\n",
        "\n",
        "**Usage:** `map(function, iterable, ...)`\n",
        "\n",
        "*   `function`: The function to apply to each item of the iterable(s).\n",
        "*   `iterable, ...`: One or more iterables whose elements the function will be applied to. If multiple iterables are provided, the function must take that many arguments, and `map` will process elements from each iterable in parallel until the shortest iterable is exhausted.\n",
        "\n",
        "The result of `map()` is a map object (an iterator), which you can convert to a list, tuple, or other sequence type if needed.\n",
        "\n",
        "Here's an example:"
      ]
    },
    {
      "cell_type": "code",
      "metadata": {
        "colab": {
          "base_uri": "https://localhost:8080/"
        },
        "id": "ccb164b1",
        "outputId": "3778a92f-82df-46f9-8d9c-f74cd61fd01a"
      },
      "source": [
        "# Example with map()\n",
        "numbers = [1, 2, 3, 4, 5]\n",
        "\n",
        "# Define a function to double a number\n",
        "def double_number(x):\n",
        "  return x * 2\n",
        "\n",
        "# Use map to apply the double_number function to each element in the numbers list\n",
        "doubled_numbers_map_object = map(double_number, numbers)\n",
        "\n",
        "# Convert the map object to a list to see the results\n",
        "doubled_numbers_list = list(doubled_numbers_map_object)\n",
        "\n",
        "print(f\"Original numbers: {numbers}\")\n",
        "print(f\"Doubled numbers using map: {doubled_numbers_list}\")\n",
        "\n",
        "# You can also use a lambda function with map\n",
        "squared_numbers_list = list(map(lambda x: x**2, numbers))\n",
        "print(f\"Squared numbers using map and lambda: {squared_numbers_list}\")\n",
        "\n",
        "# Example with multiple iterables\n",
        "list1 = [1, 2, 3]\n",
        "list2 = [10, 20, 30]\n",
        "\n",
        "# Function to add two numbers\n",
        "def add_numbers(x, y):\n",
        "  return x + y\n",
        "\n",
        "# Use map to add corresponding elements from list1 and list2\n",
        "sum_of_lists = list(map(add_numbers, list1, list2))\n",
        "print(f\"\\nList 1: {list1}\")\n",
        "print(f\"List 2: {list2}\")\n",
        "print(f\"Sum of corresponding elements using map: {sum_of_lists}\")"
      ],
      "execution_count": null,
      "outputs": [
        {
          "output_type": "stream",
          "name": "stdout",
          "text": [
            "Original numbers: [1, 2, 3, 4, 5]\n",
            "Doubled numbers using map: [2, 4, 6, 8, 10]\n",
            "Squared numbers using map and lambda: [1, 4, 9, 16, 25]\n",
            "\n",
            "List 1: [1, 2, 3]\n",
            "List 2: [10, 20, 30]\n",
            "Sum of corresponding elements using map: [11, 22, 33]\n"
          ]
        }
      ]
    },
    {
      "cell_type": "markdown",
      "source": [
        "Q.10 What is the difference between 'map()', 'reduce', and 'filter()', function in python?"
      ],
      "metadata": {
        "id": "oQcJR0hoLwDl"
      }
    },
    {
      "cell_type": "markdown",
      "metadata": {
        "id": "f30b8c23"
      },
      "source": [
        "Let's look at the differences between `map()`, `reduce()`, and `filter()` in Python. These are often used with iterables (like lists, tuples, etc.) and functions, but they serve different purposes:\n",
        "\n",
        "1.  **`map()`:**\n",
        "    *   **Purpose:** To **transform** each element of an iterable by applying a function to it.\n",
        "    *   **Output:** An iterator that yields the results of the function applied to each element. The output iterable has the same number of elements as the input iterable(s).\n",
        "    *   **Analogy:** Like applying a stamp to every item in a box.\n",
        "\n",
        "2.  **`filter()`:**\n",
        "    *   **Purpose:** To **select** elements from an iterable based on whether a function returns `True` for that element.\n",
        "    *   **Output:** An iterator that yields only the elements for which the function returned `True`. The output iterable may have fewer elements than the input iterable.\n",
        "    *   **Analogy:** Like using a sieve to keep only certain items from a mixture.\n",
        "\n",
        "3.  **`reduce()`:**\n",
        "    *   **Purpose:** To **cumulatively apply** a function of two arguments to the items of an iterable from left to right to reduce it to a single value.\n",
        "    *   **Output:** A single value that is the result of the cumulative operation.\n",
        "    *   **Analogy:** Like repeatedly combining two items in a box until only one remains.\n",
        "\n",
        "Here's a table summarizing the key differences:\n",
        "\n",
        "| Feature      | `map()`                               | `filter()`                                  | `reduce()`                                     |\n",
        "| :----------- | :------------------------------------ | :------------------------------------------ | :--------------------------------------------- |\n",
        "| **Purpose**  | Transform elements                    | Select elements                             | Reduce to a single value                       |\n",
        "| **Function** | Takes one or more arguments           | Takes one argument (returns boolean)        | Takes two arguments                            |\n",
        "| **Output**   | Iterator with transformed elements    | Iterator with filtered elements             | Single value                                   |\n",
        "| **Elements** | Same number as input iterable(s)      | Fewer than or equal to input iterable       | Always one                                     |\n",
        "| **Location** | Built-in                              | Built-in                                    | In `functools` module (Python 3)             |\n",
        "\n",
        "Let's see examples of each to highlight these differences:"
      ]
    },
    {
      "cell_type": "code",
      "metadata": {
        "colab": {
          "base_uri": "https://localhost:8080/"
        },
        "id": "a280f690",
        "outputId": "c97643c3-ae3b-4d8c-d591-72077b01dcae"
      },
      "source": [
        "from functools import reduce\n",
        "\n",
        "# Original list\n",
        "numbers = [1, 2, 3, 4, 5, 6, 7, 8, 9, 10]\n",
        "\n",
        "print(f\"Original list: {numbers}\")\n",
        "\n",
        "# Example of map(): Squaring each number\n",
        "# Transforms each element\n",
        "squared_numbers = list(map(lambda x: x**2, numbers))\n",
        "print(f\"\\nUsing map() to square numbers: {squared_numbers}\")\n",
        "# Output has the same number of elements as the original list\n",
        "\n",
        "# Example of filter(): Getting even numbers\n",
        "# Selects elements based on a condition\n",
        "even_numbers = list(filter(lambda x: x % 2 == 0, numbers))\n",
        "print(f\"\\nUsing filter() to get even numbers: {even_numbers}\")\n",
        "# Output has fewer elements than the original list\n",
        "\n",
        "# Example of reduce(): Calculating the sum of all numbers\n",
        "# Reduces the list to a single value\n",
        "sum_of_numbers = reduce(lambda x, y: x + y, numbers)\n",
        "print(f\"\\nUsing reduce() to calculate the sum: {sum_of_numbers}\")\n",
        "# Output is a single value\n",
        "\n",
        "# Example of reduce(): Finding the maximum number\n",
        "max_number = reduce(lambda x, y: x if x > y else y, numbers)\n",
        "print(f\"Using reduce() to find the maximum: {max_number}\")\n",
        "# Output is a single value"
      ],
      "execution_count": null,
      "outputs": [
        {
          "output_type": "stream",
          "name": "stdout",
          "text": [
            "Original list: [1, 2, 3, 4, 5, 6, 7, 8, 9, 10]\n",
            "\n",
            "Using map() to square numbers: [1, 4, 9, 16, 25, 36, 49, 64, 81, 100]\n",
            "\n",
            "Using filter() to get even numbers: [2, 4, 6, 8, 10]\n",
            "\n",
            "Using reduce() to calculate the sum: 55\n",
            "Using reduce() to find the maximum: 10\n"
          ]
        }
      ]
    },
    {
      "cell_type": "markdown",
      "source": [
        "Q.11 Using pen & paper write the internal mechanism for sum operation using reduce function on the given list: [47,11,42,13];(Attach paper image for this answer) in doc or collab notebook   \n",
        "ans. Reduce Function-Sum Operation(step by step)\n",
        "     Given List:[47,11,42,13]     \n",
        "     Internal Working of reduce(lambda x,y:x+y,[47,11,42,13]    \n",
        "     step1:- Take first two number-> 47+11=58  \n",
        "     step2:- Take result@ next number-> 58+42=100   \n",
        "     step3:- Take result@ next number->100+13=113    \n",
        "     final result=113   \n",
        "     so,reduce processes pair by pair until one final result remains.\n",
        "     \n",
        "    \n",
        "      "
      ],
      "metadata": {
        "id": "91J5amETsQeE"
      }
    },
    {
      "cell_type": "markdown",
      "source": [
        "# PRACTICAL QUESTION     \n"
      ],
      "metadata": {
        "id": "Hg03see4viJX"
      }
    },
    {
      "cell_type": "markdown",
      "source": [
        "Q.1 Write a python function that takes a list of numbers as input and returs the sum of all even numbers in the list.  "
      ],
      "metadata": {
        "id": "-YGPn0Hxxb_6"
      }
    },
    {
      "cell_type": "code",
      "source": [
        "def sum_of_evens(nums):\n",
        "    return sum(n for n in nums if n % 2==0)\n",
        "print(sum_of_evens([1,2,3,4,5,6,7,8]))"
      ],
      "metadata": {
        "colab": {
          "base_uri": "https://localhost:8080/"
        },
        "id": "EDMXWX-Nxxns",
        "outputId": "77a62e76-6cfc-4c87-e1d8-34e960f30cd2"
      },
      "execution_count": null,
      "outputs": [
        {
          "output_type": "stream",
          "name": "stdout",
          "text": [
            "20\n"
          ]
        }
      ]
    },
    {
      "cell_type": "markdown",
      "source": [
        "Q.2 Create a python function that accepts a string and returns the reverse of that string."
      ],
      "metadata": {
        "id": "XYa5KX3HyhP3"
      }
    },
    {
      "cell_type": "code",
      "source": [
        "def reverse_string(s):\n",
        "   return s[::-1]\n",
        "print(reverse_string(\"puja\"))"
      ],
      "metadata": {
        "colab": {
          "base_uri": "https://localhost:8080/"
        },
        "id": "iqNCgWVKzMea",
        "outputId": "7dadcffe-01fd-416f-fc51-06015c1cc412"
      },
      "execution_count": null,
      "outputs": [
        {
          "output_type": "stream",
          "name": "stdout",
          "text": [
            "ajup\n"
          ]
        }
      ]
    },
    {
      "cell_type": "markdown",
      "source": [
        "Q.3 Implement a python function that takes a list of integer and returns a new list containing the squares of each number."
      ],
      "metadata": {
        "id": "vPx6_W-Nz6N3"
      }
    },
    {
      "cell_type": "code",
      "source": [
        "def square_list(numbers):\n",
        "    return[num**2 for num in numbers]\n",
        "print(square_list([1,2,3,4,5]))"
      ],
      "metadata": {
        "colab": {
          "base_uri": "https://localhost:8080/"
        },
        "id": "NwnU_f4I0UfV",
        "outputId": "ad478430-3881-4b34-decb-2e28f38952bf"
      },
      "execution_count": null,
      "outputs": [
        {
          "output_type": "stream",
          "name": "stdout",
          "text": [
            "[1, 4, 9, 16, 25]\n"
          ]
        }
      ]
    },
    {
      "cell_type": "markdown",
      "source": [
        "Q.4 Write a python function that checks if a given number is prime or not from 1 to 200."
      ],
      "metadata": {
        "id": "4uA5ajpE1EQ3"
      }
    },
    {
      "cell_type": "code",
      "source": [
        "def is_prime(num):\n",
        "  if num < 2:\n",
        "    return False\n",
        "  for i in range(2, num):\n",
        "    if num % i == 0:\n",
        "      return False\n",
        "  return True\n",
        "\n",
        "def prime_numbers_upto_200():\n",
        "  primes = []\n",
        "  for n in range(1, 201):\n",
        "    if is_prime(n):\n",
        "      primes.append(n)\n",
        "  return primes\n",
        "\n",
        "print(prime_numbers_upto_200())"
      ],
      "metadata": {
        "colab": {
          "base_uri": "https://localhost:8080/"
        },
        "id": "gOkdcKPR2J3N",
        "outputId": "af70bfd7-9b82-4772-e89b-4fcaad7e14a5"
      },
      "execution_count": null,
      "outputs": [
        {
          "output_type": "stream",
          "name": "stdout",
          "text": [
            "[2, 3, 5, 7, 11, 13, 17, 19, 23, 29, 31, 37, 41, 43, 47, 53, 59, 61, 67, 71, 73, 79, 83, 89, 97, 101, 103, 107, 109, 113, 127, 131, 137, 139, 149, 151, 157, 163, 167, 173, 179, 181, 191, 193, 197, 199]\n"
          ]
        }
      ]
    },
    {
      "cell_type": "markdown",
      "source": [
        "Q.5 Create an iterator class in python that generates the Fibonacci sequences up to a specified number of terms."
      ],
      "metadata": {
        "id": "yv4Hk8ww3tiB"
      }
    },
    {
      "cell_type": "code",
      "source": [
        "class FibonacciIterator:\n",
        "    def __init__(self, n_terms):\n",
        "       self.n_terms = n_terms  # total terms required\n",
        "       self.count = 0          # counter\n",
        "       self.a, self.b = 0,1    # stating values\n",
        "\n",
        "    def __iter__(self):\n",
        "        return self\n",
        "\n",
        "    def __next__(self):\n",
        "       if self.count < self.n_terms:\n",
        "           value = self.a\n",
        "           self.a, self.b = self.b, self.a + self.b\n",
        "           self.count += 1\n",
        "           return value\n",
        "       else:\n",
        "           raise StopIteration\n",
        "\n",
        "fib = FibonacciIterator(10)   # generate first 10 terms"
      ],
      "metadata": {
        "id": "V0QF-JRH4h-Y"
      },
      "execution_count": null,
      "outputs": []
    },
    {
      "cell_type": "markdown",
      "source": [
        "Q.6 Write a genrator function in python that yields the powers of 2 up to a given exponent."
      ],
      "metadata": {
        "id": "l6JXc5g86mnM"
      }
    },
    {
      "cell_type": "code",
      "source": [
        "def powers_of_two(n):\n",
        "  for i in range(n + 1):\n",
        "    yield 2 ** i\n",
        "\n",
        "for num in powers_of_two(5):\n",
        "  print(num, end=\" \")"
      ],
      "metadata": {
        "colab": {
          "base_uri": "https://localhost:8080/"
        },
        "id": "iBHEHmPe64wo",
        "outputId": "8cf58327-22c9-4de6-f5b5-fbfb80200cf1"
      },
      "execution_count": null,
      "outputs": [
        {
          "output_type": "stream",
          "name": "stdout",
          "text": [
            "1 2 4 8 16 32 "
          ]
        }
      ]
    },
    {
      "cell_type": "markdown",
      "source": [
        "Q.7 Implement a generator function that reads a file line by line and yieds each line as a string.  \n"
      ],
      "metadata": {
        "id": "nXDNyV3b7h3S"
      }
    },
    {
      "cell_type": "code",
      "source": [
        "# step 1: Create a sample file\n",
        "with open(\"sample.txt\", \"w\") as f:\n",
        "  f.write(\"hello\\n\")\n",
        "  f.write(\"This is Ritesh\\n\")\n",
        "  f.write(\"Learning python\\n\")\n",
        "\n",
        "# step 2: Generator function to read file line by line\n",
        "def read_file_line_by_line(filename):\n",
        "    with open(filename, \"r\") as file:\n",
        "      for line in file:\n",
        "         yield line.strip()     # strip() removes \\n at the end\n",
        "\n",
        " # step 3: Use the generator\n",
        "for line in read_file_line_by_line(\"sample.txt\"):\n",
        "  print(line)"
      ],
      "metadata": {
        "colab": {
          "base_uri": "https://localhost:8080/"
        },
        "id": "PQYixW7Z7yM3",
        "outputId": "acf4d6b5-45eb-4611-8c5e-0d78b1e91ecf"
      },
      "execution_count": null,
      "outputs": [
        {
          "output_type": "stream",
          "name": "stdout",
          "text": [
            "hello\n",
            "This is Ritesh\n",
            "Learning python\n"
          ]
        }
      ]
    },
    {
      "cell_type": "markdown",
      "source": [
        "Q.8 Use a lambda function in python to sort a list of tuples based on the second element of each tuple"
      ],
      "metadata": {
        "id": "LCU4rE0096Td"
      }
    },
    {
      "cell_type": "code",
      "source": [
        "def sort_tuples_by_second(tuples_list):\n",
        "    return sorted(tuples_list, key=lambda x: x[1])\n",
        "\n",
        "data = [(1,5),(3,1),(4,7),(2,3)]\n",
        "result = sort_tuples_by_second(data)\n",
        "print(result)"
      ],
      "metadata": {
        "colab": {
          "base_uri": "https://localhost:8080/"
        },
        "id": "qSwXjsro-iqc",
        "outputId": "b7c347fa-621a-4894-ebb7-099f24fcbecc"
      },
      "execution_count": null,
      "outputs": [
        {
          "output_type": "stream",
          "name": "stdout",
          "text": [
            "[(3, 1), (2, 3), (1, 5), (4, 7)]\n"
          ]
        }
      ]
    },
    {
      "cell_type": "markdown",
      "source": [
        "Q.9 Write a python program that usrs map() to convert a list of temperature from celcius to Fahrenheit."
      ],
      "metadata": {
        "id": "exofCgSJlSU5"
      }
    },
    {
      "cell_type": "code",
      "source": [
        "# Function to convert celsius to fahrenheit\n",
        "def celsius_to_fahrenheit(celsius):\n",
        "   return (celsius*9/5)+32\n",
        "# List of temperatures in Celsius\n",
        "celsius_list =[0, 20, 37, 100]\n",
        "# Using map( to convert all temperatures\n",
        "fahrenheit_list = list(map(celsius_to_fahrenheit, celsius_list))\n",
        "print(\"celsius:\", celsius_list)\n",
        "print(\"Fahrenheit:\", fahrenheit_list)"
      ],
      "metadata": {
        "colab": {
          "base_uri": "https://localhost:8080/"
        },
        "id": "iJe59IW8llva",
        "outputId": "5fcc8c9c-67aa-45a1-99fe-c3988983456d"
      },
      "execution_count": null,
      "outputs": [
        {
          "output_type": "stream",
          "name": "stdout",
          "text": [
            "celsius: [0, 20, 37, 100]\n",
            "Fahrenheit: [32.0, 68.0, 98.6, 212.0]\n"
          ]
        }
      ]
    },
    {
      "cell_type": "markdown",
      "source": [
        "Q.10 Create a python program that use filter() to remove all the volwels from a given string"
      ],
      "metadata": {
        "id": "lNEcJV9qnIzr"
      }
    },
    {
      "cell_type": "code",
      "source": [
        "# Function to check if a character is NOT a vowel\n",
        "def is_not_vowel(ch):\n",
        "  vowels = \"aeiouAEIOU\"\n",
        "  return ch not in vowels\n",
        "# Input string\n",
        "text = \"Hello, This is Ritesh\"\n",
        "# Using filter() to remove vowels\n",
        "result = ''.join(filter(is_not_vowel, text))\n",
        "print (\"orignal string:\", text)\n",
        "print (\"After Removing Vowels:\", result)\n"
      ],
      "metadata": {
        "colab": {
          "base_uri": "https://localhost:8080/"
        },
        "id": "NdG8AzmNnXLd",
        "outputId": "dbaaf807-a284-4e3b-be5f-629b5bef6ea3"
      },
      "execution_count": null,
      "outputs": [
        {
          "output_type": "stream",
          "name": "stdout",
          "text": [
            "orignal string: Hello, This is Ritesh\n",
            "After Removing Vowels: Hll, Ths s Rtsh\n"
          ]
        }
      ]
    },
    {
      "cell_type": "markdown",
      "source": [
        "Q.11 Imagine an account routine used in a book shop. It works on a list with sublists, which look like this:     \n",
        " write a python program, which returns a list with 2-tuples. Each tuple consists of the order number and the product of thr price per item and the quantity. The product should be increased by 10,-4 if value of the order is smaller than 100,00\n",
        " write a python program using lambda and map.\n"
      ],
      "metadata": {
        "id": "aquJmwVUotdi"
      }
    },
    {
      "cell_type": "code",
      "source": [
        "# Accounting routine with lambda and map\n",
        "orders = [\n",
        "  [34587, \"Learning Python, Mark Lutz\",4,40.95],\n",
        "  [98762, \"programming python, Mark Lutz\", 5,56.80],\n",
        "  [77226, \"Head First Python, Paul Barry\", 3, 32.95],\n",
        "  [88112, \"Einfuhrung in python3, Bernf Klein\", 3,24.99]\n",
        "]\n",
        "\n",
        "# Using lambda + map\n",
        "# Calculate the total price for each order and apply the condition\n",
        "result = list(map(lambda order: (order[0], order[2] * order[3] + 10.04 if order[2] * order[3] < 100 else order[2] * order[3]), orders))\n",
        "\n",
        "print(result)"
      ],
      "metadata": {
        "colab": {
          "base_uri": "https://localhost:8080/"
        },
        "id": "JQk3PRnhq_7b",
        "outputId": "26144c5d-4ac1-4b0c-c6e1-e3210e1415d8"
      },
      "execution_count": null,
      "outputs": [
        {
          "output_type": "stream",
          "name": "stdout",
          "text": [
            "[(34587, 163.8), (98762, 284.0), (77226, 108.89000000000001), (88112, 85.00999999999999)]\n"
          ]
        }
      ]
    }
  ]
}